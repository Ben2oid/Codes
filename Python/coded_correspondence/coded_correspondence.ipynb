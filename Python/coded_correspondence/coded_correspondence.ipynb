{
 "cells": [
  {
   "cell_type": "markdown",
   "metadata": {},
   "source": [
    "# Casual Coded Correspondence: The Project\n",
    "\n",
    "In this project, you will be working to code and decode various messages between you and your fictional cryptography enthusiast pen pal Vishal. You and Vishal have been exchanging letters for quite some time now and have started to provide a puzzle in each one of your letters.  Here is his most recent letter:\n",
    "\n",
    "     Hey there! How have you been? I've been great! I just learned about this really cool type of cipher called a  Caesar Cipher. Here's how it works: You take your message, something like \"hello\" and then you shift all of the letters by a certain offset. For example, if I chose an offset of 3 and a message of \"hello\", I would code my message by shifting each letter 3 places to the left (with respect to the alphabet). So \"h\" becomes \"e\", \"e\" becomes, \"b\", \"l\" becomes \"i\", and \"o\" becomes \"l\". Then I have my coded message,\"ebiil\"! Now I can send you my message and the offset and you can decode it. The best thing is that Julius Caesar himself used this cipher, that's why it's called the Caesar Cipher! Isn't that so cool! Okay, now I'm going to send you a longer coded message that you have to decode yourself!\n",
    "    \n",
    "        xuo jxuhu! jxyi yi qd unqcfbu ev q squiqh syfxuh. muhu oek qrbu je tusetu yj? y xefu ie! iudt cu q cuiiqwu rqsa myjx jxu iqcu evviuj!\n",
    "    \n",
    "    This message has an offset of 10. Can you decode it?\n",
    "    \n",
    "\n",
    "#### Step 1: Decode Vishal's Message\n",
    "In the cell below, use your Python skills to decode Vishal's message and print the result. Hint: you can account for shifts that go past the end of the alphabet using the modulus operator, but I'll let you figure out how!"
   ]
  },
  {
   "cell_type": "code",
   "execution_count": 143,
   "metadata": {},
   "outputs": [
    {
     "name": "stdout",
     "output_type": "stream",
     "text": [
      "Hey Vishal! This Is A Super Cool Cipher, Thanks For Showing Me! What Else You Got?\n"
     ]
    }
   ],
   "source": [
    "letter = \"Xuo Lyixqb! Jxyi Yi Q Ikfuh Seeb Syfxuh, Jxqdai Veh Ixemydw Cu! Mxqj Ubiu Oek Wej?\"\n",
    "abc = \"abcdefghijklmnopqrstuvwxyz\"\n",
    "punctuation = \".,?!'- \\\"_\"\n",
    "deciphered_letter = \"\"\n",
    "\n",
    "for i in letter:\n",
    "    if i in punctuation:\n",
    "        deciphered_letter += i \n",
    "    elif i not in punctuation:\n",
    "        num_letter = abc.find(i.lower())\n",
    "        deciphered_letter += abc[(num_letter + 10) % 26]\n",
    "print(deciphered_letter.title())\n",
    "\n"
   ]
  },
  {
   "cell_type": "markdown",
   "metadata": {},
   "source": [
    "#### Step 2: Send Vishal a Coded Message\n",
    "Great job! Now send Vishal back a message using the same offset. Your message can be anything you want! Remember, coding happens in opposite direction of decoding."
   ]
  },
  {
   "cell_type": "code",
   "execution_count": 142,
   "metadata": {},
   "outputs": [
    {
     "name": "stdout",
     "output_type": "stream",
     "text": [
      "Xuo Lyixqb! Jxyi Yi Q Ikfuh Seeb Syfxuh, Jxqdai Veh Ixemydw Cu! Mxqj Ubiu Oek Wej?\n"
     ]
    }
   ],
   "source": [
    "letter = \"hey vishal! This is a super cool cipher, thanks for showing me! What else you got?\"\n",
    "abc = \"abcdefghijklmnopqrstuvwxyz\"\n",
    "punctuation = \".,?!'- \\\"_\"\n",
    "deciphered_letter = \"\"\n",
    "\n",
    "for i in letter:\n",
    "    if i in punctuation:\n",
    "        deciphered_letter += i \n",
    "    elif i not in punctuation:\n",
    "        num_letter = abc.find(i.lower())\n",
    "        deciphered_letter += abc[(num_letter - 10) % 26]\n",
    "print(deciphered_letter.title())\n",
    "\n"
   ]
  },
  {
   "cell_type": "markdown",
   "metadata": {},
   "source": [
    "#### Step 3: Make functions for decoding and coding \n",
    "\n",
    "Vishal sent over another reply, this time with two coded messages!\n",
    "    \n",
    "    You're getting the hang of this! Okay here are two more messages, the first one is coded just like before with  an offset of ten, and it contains the hint for decoding the second message!\n",
    "    \n",
    "    First message:\n",
    "    \n",
    "        jxu evviuj veh jxu iusedt cuiiqwu yi vekhjuud.\n",
    "        \n",
    "    Second message:\n",
    "    \n",
    "        bqdradyuzs ygxfubxq omqemd oubtqde fa oapq kagd yqeemsqe ue qhqz yadq eqogdq!\n",
    "    \n",
    "Decode both of these messages. \n",
    "\n",
    "If you haven't already, define two functions `decoder(message, offset)` and `coder(message, offset)` that can be used to quickly decode and code messages given any offset."
   ]
  },
  {
   "cell_type": "code",
   "execution_count": 173,
   "metadata": {},
   "outputs": [
    {
     "name": "stdout",
     "output_type": "stream",
     "text": [
      "The Offset For The Second Message Is Fourteen.\n",
      "Performing Multiple Caesar Ciphers To Code Your Messages Is Even More Secure!\n",
      "Bpm Wnnamb Nwz Bpm Amkwvl Umaaiom Qa Nwczbmmv.\n"
     ]
    }
   ],
   "source": [
    "def decoder(message, offset):\n",
    "    deciphered_letter = \"\"\n",
    "    for i in message:\n",
    "        if i in punctuation:\n",
    "            deciphered_letter += i \n",
    "        elif i not in punctuation:\n",
    "            num_letter = abc.find(i.lower())\n",
    "            deciphered_letter += abc[(num_letter + offset) % 26]\n",
    "    return deciphered_letter\n",
    "\n",
    "print(decoder(\"jxu evviuj veh jxu iusedt cuiiqwu yi vekhjuud.\", 10).title())\n",
    "print(decoder(\"bqdradyuzs ygxfubxq omqemd oubtqde fa oapq kagd yqeemsqe ue qhqz yadq eqogdq!\", 14).title())\n",
    "\n",
    "def coder(message, offset):\n",
    "    deciphered_letter = \"\"\n",
    "    for i in message:\n",
    "        if i in punctuation:\n",
    "            deciphered_letter += i \n",
    "        elif i not in punctuation:\n",
    "            num_letter = abc.find(i.lower())\n",
    "            deciphered_letter += abc[(num_letter - offset) % 26]\n",
    "    return deciphered_letter\n",
    "\n",
    "print(coder(\"The Offset For The Second Message Is Fourteen.\", 18).title())"
   ]
  },
  {
   "cell_type": "code",
   "execution_count": null,
   "metadata": {},
   "outputs": [],
   "source": []
  },
  {
   "cell_type": "markdown",
   "metadata": {},
   "source": [
    "#### Step 4: Solving a Caesar Cipher without knowing the shift value\n",
    "\n",
    "Awesome work! While you were working to decode his last two messages, Vishal sent over another letter! He's really been bitten by the crytpo-bug. Read it and see what interesting task he has lined up for you this time.\n",
    "\n",
    "            Hello again friend! I knew you would love the Caesar Cipher, it's a cool simple way to encrypt messages. Did you know that back in Caesar's time, it was considered a very secure way of communication and it took a lot of effort to crack if you were unaware of the value of the shift? That's all changed with computers! Now we can brute force these kinds of ciphers very quickly, as I'm sure you can imagine.\n",
    "            \n",
    "            To test your cryptography skills, this next coded message is going to be harder than the last couple to crack. It's still going to be coded with a Caesar Cipher but this time I'm not going to tell you the value of   the shift. You'll have to brute force it yourself.\n",
    "            \n",
    "            Here's the coded message:\n",
    "            \n",
    "            vhfinmxkl atox kxgwxkxw tee hy maxlx hew vbiaxkl tl hulhexmx. px'ee atox mh kxteer lmxi ni hnk ztfx by px ptgm mh dxxi hnk fxlltzxl ltyx.\n",
    "            \n",
    "            Good luck!\n",
    "            \n",
    "Decode Vishal's most recent message and see what it says!"
   ]
  },
  {
   "cell_type": "code",
   "execution_count": 175,
   "metadata": {},
   "outputs": [
    {
     "name": "stdout",
     "output_type": "stream",
     "text": [
      "Offset 18\n",
      "\tthe offset for the second message is fourteen.\n",
      "\n"
     ]
    }
   ],
   "source": [
    "message = \"Bpm Wnnamb Nwz Bpm Amkwvl Umaaiom Qa Nwczbmmv.\"\n",
    "\n",
    "for i in range(1, 26):\n",
    "    if decoder(message,i).find(\"the\") >= 0:\n",
    "        print(\"Offset\", i)\n",
    "        print(\"\\t\" + decoder(message, i) + \"\\n\")"
   ]
  },
  {
   "cell_type": "markdown",
   "metadata": {},
   "source": [
    "#### Step 5: The Vigenère Cipher\n",
    "\n",
    "Great work! While you were working on the brute force cracking of the cipher, Vishal sent over another letter. That guy is a letter machine!\n",
    "\n",
    "            Salutations! As you can see, technology has made brute forcing simple ciphers like the Caesar Cipher extremely easy, and us crypto-enthusiasts have had to get more creative and use more complicated ciphers. This next cipher I'm going to teach you is the Vigenère Cipher, invented by an Italian cryptologist named Giovan Battista Bellaso (cool name eh?) in the 16th century, but named after another cryptologist from the 16th century, Blaise de Vigenère.\n",
    "            \n",
    "           The Vigenère Cipher is a polyalphabetic substitution cipher, as opposed to the Caesar Cipher which was a monoalphabetic substitution cipher. What this means is that opposed to having a single shift that is applied to every letter, the Vigenère Cipher has a different shift for each individual letter. The value of the shift for each letter is determined by a given keyword.\n",
    "           \n",
    "           Consider the message\n",
    "           \n",
    "               barry is the spy\n",
    "\n",
    "           If we want to code this message, first we choose a keyword. For this example, we'll use the keyword\n",
    "           \n",
    "               dog\n",
    "               \n",
    "           Now we use the repeat the keyword over and over to generate a _keyword phrase_ that is the same length as the message we want to code. So if we want to code the message \"barry is the spy\" our _keyword phrase_ is \"dogdo gd ogd ogd\". Now we are ready to start coding our message. We shift the each letter of our message by the place value of the corresponding letter in the keyword phrase, assuming that \"a\" has a place value of 0, \"b\" has a place value of 1, and so forth. Remember, we zero-index because this is Python we're talking about!\n",
    "\n",
    "                        message:       b  a  r  r  y    i  s   t  h  e   s  p  y\n",
    "                \n",
    "                 keyword phrase:       d  o  g  d  o    g  d   o  g  d   o  g  d\n",
    "                 \n",
    "          resulting place value:       4  14 15 12 16   24 11  21 25 22  22 17 5\n",
    "      \n",
    "            So we shift \"b\", which has an index of 1, by the index of \"d\", which is 3. This gives us an place value of 4, which is \"e\". Then continue the trend: we shift \"a\" by the place value of \"o\", 14, and get \"o\" again, we shift \"r\" by the place value of \"g\", 15, and get \"x\", shift the next \"r\" by 12 places and \"u\", and so forth. Once we complete all the shifts we end up with our coded message:\n",
    "            \n",
    "                eoxum ov hnh gvb\n",
    "                \n",
    "            As you can imagine, this is a lot harder to crack without knowing the keyword! So now comes the hard part. I'll give you a message and the keyword, and you'll see if you can figure out how to crack it! Ready? Okay here's my message:\n",
    "            \n",
    "                dfc aruw fsti gr vjtwhr wznj? vmph otis! cbx swv jipreneo uhllj kpi rahjib eg fjdkwkedhmp!\n",
    "                \n",
    "            and the keyword to decode my message is \n",
    "            \n",
    "                friends\n",
    "                \n",
    "            Because that's what we are! Good luck friend!\n",
    "           \n",
    "And there it is. Vishal has given you quite the assignment this time! Try to decode his message. It may be helpful to create a function that takes two parameters, the coded message and the keyword and then work towards a solution from there.\n",
    "\n",
    "**NOTE:** Watch out for spaces and punctuation! When there's a space or punctuation mark in the original message, there should be a space/punctuation mark in the corresponding repeated-keyword string as well! "
   ]
  },
  {
   "cell_type": "code",
   "execution_count": 285,
   "metadata": {},
   "outputs": [
    {
     "name": "stdout",
     "output_type": "stream",
     "text": [
      "you were able to decode this? nice work! you are becoming quite the expert at cryptography!\n"
     ]
    }
   ],
   "source": [
    "def decoder(coded_message, keyword):\n",
    "# Changes Keyword into numbers list\n",
    "    keyword_numlst = []\n",
    "    for i in keyword.lower():\n",
    "        keyword_numlst.append(abc.find(i))\n",
    "# Changes Coded message into numbered list\n",
    "    coded_message_numlst = []\n",
    "    for i in coded_message.lower():\n",
    "        if i not in punctuation:\n",
    "            coded_message_numlst.append(abc.find(i))\n",
    "        else:\n",
    "            coded_message_numlst.append(i)\n",
    "# Make Keyword be the length of Coded message with its punctuations\n",
    "    keyword_lenofcodedmsg = []\n",
    "    count = 0\n",
    "    for i in coded_message.lower():\n",
    "        if i not in punctuation:\n",
    "            keyword_lenofcodedmsg.append(keyword_numlst[count % len(keyword)])\n",
    "            count += 1\n",
    "        else:\n",
    "            keyword_lenofcodedmsg.append(i)\n",
    "# Iterate through both lists and subtract eachother\n",
    "    coded_message_in_nums = []\n",
    "    count = 0\n",
    "    for i in coded_message_numlst:\n",
    "        if str(i) not in punctuation:\n",
    "            coded_message_in_nums.append(i - keyword_lenofcodedmsg[count])\n",
    "            count += 1\n",
    "        else:\n",
    "            coded_message_in_nums.append(i)\n",
    "            count += 1\n",
    "# Convert code from numbers to letters\n",
    "    coded_message_in_letters = []\n",
    "    for i in coded_message_in_nums:\n",
    "        if str(i) not in punctuation:\n",
    "            coded_message_in_letters.append(abc[i])\n",
    "        else:\n",
    "            coded_message_in_letters.append(i)\n",
    "# convert code from list to string\n",
    "    decoded_message = \"\"\n",
    "    for i in coded_message_in_letters:\n",
    "        decoded_message += i\n",
    "\n",
    "    return decoded_message\n",
    "\n",
    "\n",
    "print(decoder(\"dfc aruw fsti gr vjtwhr wznj? vmph otis! cbx swv jipreneo uhllj kpi rahjib eg fjdgbstusuyg!\", \"friends\"))"
   ]
  },
  {
   "cell_type": "markdown",
   "metadata": {
    "collapsed": true
   },
   "source": [
    "#### Step 6: Send a message with the  Vigenère Cipher\n",
    "Great work decoding the message. For your final task, write a function that can encode a message using a given keyword and write out a message to send to Vishal!\n",
    "\n",
    "*As a bonus, try calling your decoder function on the result of your encryption function. You should get the original message back!*"
   ]
  },
  {
   "cell_type": "code",
   "execution_count": 288,
   "metadata": {},
   "outputs": [
    {
     "name": "stdout",
     "output_type": "stream",
     "text": [
      "dfc aruw fsti gr vjtwhr wznj? vmph otis! cbx swv jipreneo uhllj kpi rahjib eg fjdgbstusuyg!\n",
      "you were able to decode this? nice work! you are becoming quite the expert at cryptography!\n"
     ]
    }
   ],
   "source": [
    "def coder(message, keyword):\n",
    "    # Changes Keyword into numbers list\n",
    "    keyword_numlst = []\n",
    "    for i in keyword.lower():\n",
    "        keyword_numlst.append(abc.find(i))\n",
    "    # Changes Coded message into numbered list\n",
    "    message_numlst = []\n",
    "    for i in message.lower():\n",
    "        if i not in punctuation:\n",
    "            message_numlst.append(abc.find(i))\n",
    "        else:\n",
    "            message_numlst.append(i)\n",
    "    # Make Keyword be the length of Coded message with its punctuations\n",
    "    keyword_lenofmsg = []\n",
    "    count = 0\n",
    "    for i in message.lower():\n",
    "        if i not in punctuation:\n",
    "            keyword_lenofmsg.append(keyword_numlst[count % len(keyword)])\n",
    "            count += 1\n",
    "        else:\n",
    "            keyword_lenofmsg.append(i)\n",
    "    # Iterate through both lists and add eachother\n",
    "    message_in_nums = []\n",
    "    count = 0\n",
    "    for i in message_numlst:\n",
    "        if str(i) not in punctuation:\n",
    "            message_in_nums.append((i + keyword_lenofmsg[count]) % 26)\n",
    "            count += 1\n",
    "        else:\n",
    "            message_in_nums.append(i)\n",
    "            count += 1\n",
    "    # Convert code from numbers to letters\n",
    "    message_in_letters = []\n",
    "    for i in message_in_nums:\n",
    "        if str(i) not in punctuation:\n",
    "            message_in_letters.append(abc[i])\n",
    "        else:\n",
    "            message_in_letters.append(i)\n",
    "    # convert code from list to string\n",
    "    coded_message = \"\"\n",
    "    for i in message_in_letters:\n",
    "        coded_message += i\n",
    "\n",
    "    return coded_message\n",
    "\n",
    "\n",
    "\n",
    "\n",
    "    return message_in_letters\n",
    "\n",
    "\n",
    "\n",
    "message = \"You Were Able To Decode This? Nice Work! You Are Becoming Quite The Expert At Cryptography!\"\n",
    "keyword = \"friends\"\n",
    "print(coder(message, keyword))\n",
    "print(decoder(coded_message, keyword))\n",
    "\n"
   ]
  },
  {
   "cell_type": "markdown",
   "metadata": {},
   "source": [
    "#### Conclusion\n",
    "Over the course of this project you've learned about two different cipher methods and have used your Python skills to code and decode messages. There are all types of other facinating ciphers out there to explore, and Python is the perfect language to implement them with, so go exploring! "
   ]
  }
 ],
 "metadata": {
  "kernelspec": {
   "display_name": "Python 3",
   "language": "python",
   "name": "python3"
  },
  "language_info": {
   "codemirror_mode": {
    "name": "ipython",
    "version": 3
   },
   "file_extension": ".py",
   "mimetype": "text/x-python",
   "name": "python",
   "nbconvert_exporter": "python",
   "pygments_lexer": "ipython3",
   "version": "3.11.3"
  },
  "vscode": {
   "interpreter": {
    "hash": "b365a6c9ebcae92d26abc4b1d61256b03592a60592f2f5c979014a722ae38b9a"
   }
  }
 },
 "nbformat": 4,
 "nbformat_minor": 2
}
